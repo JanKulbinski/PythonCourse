{
 "cells": [
  {
   "cell_type": "markdown",
   "metadata": {},
   "source": [
    "# Lista 1\n",
    "\n",
    "## Kurs wybranego języka programowania (Python)\n",
    "\n",
    "Wszystkie rozwiązania proszę wpisać w tym notatniku poniżej treści zadań. Zadania z `*` to zadania dodatkowe."
   ]
  },
  {
   "cell_type": "markdown",
   "metadata": {},
   "source": [
    "## Zadanie 1 _(5pt)_\n",
    "\n",
    "Napisz funkcję, który wyświetla trójkąt Pascala o zadanej wysokości\n",
    "```\n",
    "                1\n",
    "              1   1\n",
    "            1   2   1\n",
    "          1   3   3   1\n",
    "        1   4   6   4   1\n",
    "      .....................\n",
    "```"
   ]
  },
  {
   "cell_type": "code",
   "execution_count": 6,
   "metadata": {},
   "outputs": [
    {
     "name": "stdout",
     "output_type": "stream",
     "text": [
      "    1\n",
      "   1 1 \n",
      "  1 2 1 \n",
      " 1 3 3 1 \n",
      "1 4 6 4 1 \n"
     ]
    }
   ],
   "source": [
    "def pascal_triangle(n):\n",
    "    if n < 1 :\n",
    "        return\n",
    "    elif n == 1 :\n",
    "        print(\"1\")\n",
    "        return\n",
    "    else :\n",
    "        width = int((2*n - 1)/2)\n",
    "        printSpaces(width)\n",
    "        width -= 1\n",
    "        print(\"1\")\n",
    "\n",
    "        line = [1,1]\n",
    "        \n",
    "        for _ in range(2,n+1) :\n",
    "            printSpaces(width)\n",
    "            width -= 1\n",
    "            \n",
    "            for i in line :\n",
    "                print(i,end=\" \")\n",
    "            print('')\n",
    "\n",
    "            for index, _ in enumerate(line) :\n",
    "                if index + 1 > len(line) - 1:\n",
    "                    break\n",
    "                line[index]= line[index] + line[index + 1]\n",
    "            line.insert(0,1)\n",
    "\n",
    "def printSpaces(n):\n",
    "    for _ in range(n) :\n",
    "        print(end=\" \")\n",
    "\n",
    "pascal_triangle(5)"
   ]
  },
  {
   "cell_type": "markdown",
   "metadata": {},
   "source": [
    "## Zadanie 2 _(5pt)_\n",
    "\n",
    "Napisz funkcję `primes(n)` zwracająca listę liczb pierwszych nie większych niż $n$ np.\n",
    "\n",
    "```\n",
    "In [ ]:   primes(6)\n",
    "Out [ ]: [2, 3, 5]\n",
    "```"
   ]
  },
  {
   "cell_type": "code",
   "execution_count": 4,
   "metadata": {},
   "outputs": [
    {
     "data": {
      "text/plain": [
       "[2, 3, 5]"
      ]
     },
     "execution_count": 4,
     "metadata": {},
     "output_type": "execute_result"
    }
   ],
   "source": [
    "def primes(n) :\n",
    "    primes = [1] * (n+1)\n",
    "    primes[0] = 0\n",
    "    primes[1] = 0\n",
    "\n",
    "    i = 2\n",
    "    while i * i <= n+1 :\n",
    "        if primes[i] == 1 :\n",
    "            for j in range(2*i,n+1,i):\n",
    "                primes[j] = 0\n",
    "        i += 1\n",
    "    \n",
    "    result = []\n",
    "    for index, value in enumerate(primes) :\n",
    "        if value:\n",
    "            result.append(index)\n",
    "    return result\n",
    "\n",
    "primes(6)  "
   ]
  },
  {
   "cell_type": "markdown",
   "metadata": {},
   "source": [
    "## Zadanie 3 _(5pt)_\n",
    "\n",
    "Napisz funkcje, która usuwa wszystkie powtarzające się elementy z listy (tak, że każdy element występuje tylko raz) np. z listy `[1,1,2,2,2,3,3,5,5,5,4,4,4,0]` dostajemy `[1,2,3,5,4,0]`."
   ]
  },
  {
   "cell_type": "code",
   "execution_count": 7,
   "metadata": {},
   "outputs": [
    {
     "data": {
      "text/plain": [
       "[1, 2, 3, 5, 4, 0]"
      ]
     },
     "execution_count": 7,
     "metadata": {},
     "output_type": "execute_result"
    }
   ],
   "source": [
    "from collections import OrderedDict\n",
    "\n",
    "# The fromkeys() method returns a dictionary with the specified keys and the specified value.\n",
    "# keys\tRequired. An iterable specifying the keys of the new dictionary\n",
    "# value\tOptional. The value for all keys. Default value is None\n",
    "\n",
    "def remove_duplicats(list_with_duplicats) :\n",
    "    return list(OrderedDict.fromkeys(list_with_duplicats))\n",
    "\n",
    "remove_duplicats([1,1,2,2,2,3,3,5,5,5,4,4,4,0])"
   ]
  },
  {
   "cell_type": "markdown",
   "metadata": {},
   "source": [
    "## Zadanie 4 _(10pt)_\n",
    "\n",
    "Napisz funkcję `prime_factors(n)`, która rozkłada $n$ na czynniki pierwsze i jako wynik wraca listę par $[(p_1,\\alpha_1), (p_2,\\alpha_2), \\ldots, (p_k, \\alpha_k)]$ taką, że $p_1^{\\alpha_1}p_2^{\\alpha_2}\\ldots p_k^{\\alpha_k}$.\n"
   ]
  },
  {
   "cell_type": "code",
   "execution_count": 8,
   "metadata": {},
   "outputs": [
    {
     "data": {
      "text/plain": [
       "[(2, 1), (5, 3), (7, 2), (13, 1)]"
      ]
     },
     "execution_count": 8,
     "metadata": {},
     "output_type": "execute_result"
    }
   ],
   "source": [
    "def prime_factors(n):\n",
    "    result = []\n",
    "    x = 2\n",
    "    while n > 1:\n",
    "        a = 0\n",
    "        while(n % x == 0):\n",
    "            n = n/x\n",
    "            a += 1\n",
    "        if a > 0:    \n",
    "            result.append((x,a))\n",
    "        x += 1\n",
    "    return result\n",
    "\n",
    "prime_factors(159250)"
   ]
  },
  {
   "cell_type": "markdown",
   "metadata": {},
   "source": [
    "## Zadanie 5 _(10pt)_\n",
    "\n",
    "Napisz funkcję `fraczero(n)` liczącą silnie $n!$ dla $n$ od $0$ do $10000$ oraz jako wynik wraca liczbę zer na końcu $n!$."
   ]
  },
  {
   "cell_type": "code",
   "execution_count": 1,
   "metadata": {},
   "outputs": [
    {
     "data": {
      "text/plain": [
       "3"
      ]
     },
     "execution_count": 1,
     "metadata": {},
     "output_type": "execute_result"
    }
   ],
   "source": [
    "def fraczero(n) :\n",
    "    res = 1\n",
    "    for i in range(2,n+1) :\n",
    "        res *= i\n",
    "\n",
    "    zeros = 0\n",
    "    while res % 10 == 0 :\n",
    "        zeros += 1\n",
    "        res /= 10\n",
    "    return zeros\n",
    "\n",
    "fraczero(15)"
   ]
  },
  {
   "cell_type": "markdown",
   "metadata": {},
   "source": [
    "## Zadanie 6 _(10pt)_\n",
    "\n",
    "Napisz program, który generuje liczbę $20$ liczb losowych (rozkład jednostajny) od $1$ do $100$\n",
    "* Wyświetl listę wygenerowanych liczb\n",
    "* Wyświetl średnią\n",
    "* Wyświetl największą i najmniejszą wartość\n",
    "* Wyświetl drugą największą i drugą najmniejszą wartość na liście\n",
    "* Wyświetl ile jest liczb parzystych na liście\n",
    " "
   ]
  },
  {
   "cell_type": "code",
   "execution_count": 2,
   "metadata": {},
   "outputs": [
    {
     "name": "stdout",
     "output_type": "stream",
     "text": [
      "[94, 39, 49, 22, 7, 53, 3, 17, 22, 49, 2, 88, 10, 67, 11, 84, 76, 33, 52, 48]\n",
      "average = 41.3\n",
      "min = 2\n",
      "max = 94\n",
      "number of even = 10\n"
     ]
    }
   ],
   "source": [
    "import random\n",
    "from statistics import mean \n",
    "\n",
    "randoms = []\n",
    "for i in range(20):\n",
    "    value = random.randint(1,100)\n",
    "    randoms.append(value)\n",
    "\n",
    "print(randoms)\n",
    "print(f'average = {mean(randoms)}')\n",
    "randoms.sort()\n",
    "print(f'min = {randoms[0]}')\n",
    "print(f'max = {randoms[len(randoms) - 1]}')\n",
    "print(f'number of even = {len(list(filter(lambda value: value % 2 == 0,randoms)))}')"
   ]
  },
  {
   "cell_type": "markdown",
   "metadata": {},
   "source": [
    "## Zadanie 7 _(10pt)_\n",
    "\n",
    "Załóżmy, że mamy następującą listę: `L = ['aababacaa', 'cabaabcca', 'aaabbcbacb', 'acababbaab', ...]` wygenerowaną losowo tzn. lista zawiera losowe ciągi znaków o zadanej długości z liter `'a'`, `'b'` i `'c'`. Takie wzorce występują w wielu miejscach np. sekwencje DNA. Użytkownik zawiera swój (wzorzec) ciąg znaków z literami i pustymi miejscami oznaczonymi przez `'*'` np. `\"a**a******\"`. Wykorzystaj słownik z kluczami zawierającymi indeksy znaków różnych od `'*'` i wartościami liter z wzorca. Napisz program, który znajduje wszystkie sekwencje z listy, które pasuje do podanego wzorca."
   ]
  },
  {
   "cell_type": "code",
   "execution_count": 1,
   "metadata": {},
   "outputs": [
    {
     "name": "stdout",
     "output_type": "stream",
     "text": [
      "{'cbaba': None, 'baaca': None, 'bcbcb': None, 'bcaca': None, 'cbbbc': None, 'bacca': None, 'ccbab': None, 'accba': None, 'bcbcc': None, 'babca': None, 'cbaca': None, 'ccaaa': None, 'abaaa': None, 'acccb': None, 'baabc': None, 'babcc': None, 'abacb': None, 'abaab': None, 'baaab': None, 'bcbba': None, 'abcac': None, 'bccbb': None, 'cccca': None, 'aaccc': None}\n",
      "abacb\n",
      "abaab\n",
      "baaab\n"
     ]
    }
   ],
   "source": [
    "import random\n",
    "import re\n",
    "\n",
    "alphabet = ['a','b','c']\n",
    "def random_strings(n):\n",
    "    dic = {}\n",
    "    for i in range (25):\n",
    "        string = ''\n",
    "        for j in range (n):\n",
    "            value = random.randint(0,2)\n",
    "            string += alphabet[value]\n",
    "        dic[string] = None\n",
    "    return dic\n",
    "\n",
    "def match_pattern(pattern):\n",
    "    pattern = pattern.replace(\"*\",\".\")\n",
    "    patternObj = re.compile(pattern)\n",
    "    for key in dic.keys():\n",
    "        if patternObj.match(key):\n",
    "            print(key)\n",
    "\n",
    "dic = random_strings(5)\n",
    "print(dic)\n",
    "match_pattern('**a*b')"
   ]
  },
  {
   "cell_type": "markdown",
   "metadata": {},
   "source": [
    "## Zadanie 8 _(10pt)_\n",
    "\n",
    "Napisz program, który konwerteruje liczby rzymskie na liczby arabskie. Do zapisu liczb rzymskich używa\n",
    "się 7 liter: `I=1`, `V=5`, `X=10`, `L=50`, `C=100`, `D=500`, `M=1000`. Opis algorytmu zamiany z i na system rzymski można znaleźć np. [tutaj](http://www.algorytm.org/algorytmy-arytmetyczne/zamiana-z-i-na-system-rzymski.html)"
   ]
  },
  {
   "cell_type": "code",
   "execution_count": 2,
   "metadata": {},
   "outputs": [
    {
     "name": "stdout",
     "output_type": "stream",
     "text": [
      "LXXVI\n",
      "1084"
     ]
    }
   ],
   "source": [
    "dic = { 1000 : \"M\",\n",
    "         900 : \"CM\", \n",
    "         500 : \"D\",\n",
    "         400 : \"CD\", \n",
    "         100 : \"C\", \n",
    "         90 : \"XC\", \n",
    "         50 : \"L\", \n",
    "         40 : \"XL\", \n",
    "         10 : \"X\", \n",
    "         9 : \"IX\", \n",
    "         5 : \"V\", \n",
    "         4 : \"IV\", \n",
    "         1 : \"I\" \n",
    "}\n",
    "\n",
    "dicR = {\n",
    "        \"M\" : 1000,\n",
    "        \"CM\" : 900, \n",
    "        \"D\" : 500,\n",
    "        \"CD\" : 400, \n",
    "        \"C\" : 100, \n",
    "        \"XC\" : 90, \n",
    "        \"L\" : 50, \n",
    "        \"XL\" : 40, \n",
    "        \"X\" : 10, \n",
    "        \"IX\" : 9, \n",
    "        \"V\" : 5, \n",
    "        \"IV\" : 4, \n",
    "        \"I\" : 1 \n",
    "}\n",
    "\n",
    "def floor_key(d, key):\n",
    "    if key in d:\n",
    "        return key\n",
    "    return max(k for k in d if k < key)\n",
    "\n",
    "\n",
    "def arabic_to_roman(result,number):\n",
    "    if number <= 0:\n",
    "        return result\n",
    "    key = floor_key(dic,number)\n",
    "    number -= key\n",
    "    result += dic[key]\n",
    "    return arabic_to_roman(result,number)\n",
    "\n",
    "def roman_to_arabic(string):\n",
    "    result = 0\n",
    "    length = len(string)\n",
    "    while(length > 0) :\n",
    "        if(length > 2 ) :\n",
    "            searched = string[length - 2:length]\n",
    "        else :\n",
    "            searched = string[0]   \n",
    "        length -= 2\n",
    "        \n",
    "        if dicR.get(searched,None) == None:\n",
    "            result += dicR.get(searched[0],0)\n",
    "            if len(searched) == 2 :\n",
    "                result += dicR.get(searched[1],0)\n",
    "        else :\n",
    "            result += dicR.get(searched,0)\n",
    "\n",
    "    return result\n",
    "\n",
    "print(arabic_to_roman('',76))\n",
    "print(roman_to_arabic('MLXXXIV'),end=\"\")"
   ]
  },
  {
   "cell_type": "markdown",
   "metadata": {},
   "source": [
    "## Zadanie 9* _(5pt)_\n",
    "\n",
    "Napisz program kalkulator, który pobiera wprowadzone wartości oraz funkcje z klawiatury następnie podaje wynik. W przypadku błędnych danych zgłasza błąd.\n",
    "\n",
    "Przykładowa sesja:\n",
    "```\n",
    "    Kalkulator\n",
    "    [1]: 2+5*10\n",
    "        52\n",
    "    [2]: sin(0.5)+cos(0.3)\n",
    "        1.434762027729809\n",
    "    [3]: 2^100\n",
    "        1267650600228229401496703205376\n",
    "```\n",
    "\n",
    "Przykładowy kod pobierania danych od użytkownika:\n",
    "\n",
    "```\n",
    "    x = input('Podaj x = ')\n",
    "```"
   ]
  },
  {
   "cell_type": "code",
   "execution_count": null,
   "metadata": {},
   "outputs": [],
   "source": []
  },
  {
   "cell_type": "markdown",
   "metadata": {},
   "source": [
    "\n",
    "## Zadanie 10* _(10pt)_\n",
    "\n",
    "Napisz program, który rysuje na ekranie w trybie znakowym wykres funkcji zmiennej $x$. Wskazówka: utwórz  ,,tablicę dwuwymiarową'' o wymiarach 80x24 i narysuj wykres w tej tablicy. Następnie wynik wyświetl na ekranie.\n",
    "\n",
    "```\n",
    "        Podaj funkcje f(x) = sin(x)\n",
    "        Podaj początek przedziału a = -pi\n",
    "        Podaj koniec przedziału b = pi\n",
    "                                                |\n",
    "                                                |\n",
    "                                                |              ***********\n",
    "                                                |           ***           ***\n",
    "                                                |         **                 **\n",
    "                                                |        *                     *\n",
    "                                                |      **                       **\n",
    "                                                |     *                           *\n",
    "                                                |   **                             **\n",
    "                                                |  *                                 *\n",
    "                                                | *                                   *\n",
    "                                                |*                                     *\n",
    "        ----------------------------------------|---------------------------------------\n",
    "          *                                   * |\n",
    "           *                                 *  |\n",
    "            **                             **   |\n",
    "              *                           *     |\n",
    "               **                       **      |\n",
    "                 *                     *        |\n",
    "                  **                 **         |\n",
    "                    ***           ***           |\n",
    "                       ***** *****              |\n",
    "                            *                   |\n",
    "                                                |\n",
    "```"
   ]
  },
  {
   "cell_type": "code",
   "execution_count": null,
   "metadata": {},
   "outputs": [],
   "source": []
  }
 ],
 "metadata": {
  "kernelspec": {
   "display_name": "Python 3",
   "language": "python",
   "name": "python3"
  },
  "language_info": {
   "codemirror_mode": {
    "name": "ipython",
    "version": 3
   },
   "file_extension": ".py",
   "mimetype": "text/x-python",
   "name": "python",
   "nbconvert_exporter": "python",
   "pygments_lexer": "ipython3",
   "version": "3.7.4"
  }
 },
 "nbformat": 4,
 "nbformat_minor": 2
}
