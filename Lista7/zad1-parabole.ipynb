{
 "cells": [
  {
   "cell_type": "markdown",
   "metadata": {},
   "source": [
    "# Najlepsze wyniki uzyskałem dla modelu 8-8-1 z funkcja aktywacji relu "
   ]
  },
  {
   "cell_type": "code",
   "execution_count": 3,
   "metadata": {},
   "outputs": [
    {
     "data": {
      "image/png": "[encoded data removed]",
      "text/plain": [
       "<Figure size 432x288 with 2 Axes>"
      ]
     },
     "metadata": {
      "needs_background": "light"
     },
     "output_type": "display_data"
    },
    {
     "name": "stdout",
     "output_type": "stream",
     "text": [
      "epochs=0   loss=1300330.0105198019\n",
      "epochs=100   loss=949920.6819306931\n",
      "epochs=200   loss=193158.79362623763\n",
      "epochs=300   loss=93604.98468440594\n",
      "epochs=400   loss=90178.93417388614\n",
      "epochs=500   loss=87146.62043626238\n",
      "epochs=600   loss=83911.16777537129\n",
      "epochs=700   loss=80833.00738706683\n",
      "epochs=800   loss=77899.98124226485\n",
      "epochs=900   loss=74970.16232209158\n",
      "epochs=1000   loss=71995.56621287129\n"
     ]
    }
   ],
   "source": [
    "%matplotlib inline\n",
    "from tensorflow.keras.models import Sequential\n",
    "from tensorflow.keras.layers import Dense\n",
    "from tensorflow.keras import optimizers, backend, regularizers\n",
    "from matplotlib import pyplot as plt\n",
    "import numpy as np\n",
    "import tensorflow as tf\n",
    "\n",
    "\n",
    "# draw1\n",
    "fig, axes = plt.subplots(2)\n",
    "x = np.linspace(-50,50,26)\n",
    "y = x ** 2\n",
    "axes[0].scatter(x, y)\n",
    "\n",
    "# parabole\n",
    "x = np.c_[np.linspace(-50,50,101)]\n",
    "y = x ** 2\n",
    "o = np.ones((101,2))\n",
    "o[:,:1] = x\n",
    "x = o\n",
    "\n",
    "# 8-8-1 + relu + Adam\n",
    "model = Sequential()\n",
    "model.add(Dense(units=8, activation='relu', kernel_regularizer=regularizers.l2(0.001), input_dim=2))\n",
    "model.add(Dense(units=8, activation='relu', kernel_regularizer=regularizers.l2(0.001)))\n",
    "model.add(Dense(units=1, activation='relu', kernel_regularizer=regularizers.l2(0.001)))\n",
    "adam = optimizers.Adam()\n",
    "model.compile(loss='mean_squared_error', optimizer=adam)\n",
    "\n",
    "history = model.fit(x,y, epochs=1000, verbose=False)\n",
    "p = model.predict(x)\n",
    "\n",
    "#draw2\n",
    "axes[1].set_ylim([0, 2500])\n",
    "axes[1].scatter(np.delete(x, 1, 1), p, color=\"blue\")\n",
    "plt.show()\n",
    "\n",
    "losses = [v for i, v in enumerate(history.history['loss']) if i % 99 == 0 ]\n",
    "for i, v in enumerate(losses):\n",
    "    print(f'epochs={i*100}   loss={v}')"
   ]
  },
  {
   "cell_type": "code",
   "execution_count": null,
   "metadata": {},
   "outputs": [],
   "source": []
  }
 ],
 "metadata": {
  "kernelspec": {
   "display_name": "Python 3",
   "language": "python",
   "name": "python3"
  },
  "language_info": {
   "codemirror_mode": {
    "name": "ipython",
    "version": 3
   },
   "file_extension": ".py",
   "mimetype": "text/x-python",
   "name": "python",
   "nbconvert_exporter": "python",
   "pygments_lexer": "ipython3",
   "version": "3.7.4"
  }
 },
 "nbformat": 4,
 "nbformat_minor": 2
}
